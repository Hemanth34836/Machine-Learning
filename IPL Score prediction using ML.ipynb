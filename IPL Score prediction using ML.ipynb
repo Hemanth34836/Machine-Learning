{
 "cells": [
  {
   "cell_type": "code",
   "execution_count": 3,
   "id": "3c5b6792",
   "metadata": {},
   "outputs": [
    {
     "data": {
      "text/html": [
       "<div>\n",
       "<style scoped>\n",
       "    .dataframe tbody tr th:only-of-type {\n",
       "        vertical-align: middle;\n",
       "    }\n",
       "\n",
       "    .dataframe tbody tr th {\n",
       "        vertical-align: top;\n",
       "    }\n",
       "\n",
       "    .dataframe thead th {\n",
       "        text-align: right;\n",
       "    }\n",
       "</style>\n",
       "<table border=\"1\" class=\"dataframe\">\n",
       "  <thead>\n",
       "    <tr style=\"text-align: right;\">\n",
       "      <th></th>\n",
       "      <th>Overs</th>\n",
       "      <th>Score</th>\n",
       "    </tr>\n",
       "  </thead>\n",
       "  <tbody>\n",
       "    <tr>\n",
       "      <th>0</th>\n",
       "      <td>2</td>\n",
       "      <td>23</td>\n",
       "    </tr>\n",
       "    <tr>\n",
       "      <th>1</th>\n",
       "      <td>6</td>\n",
       "      <td>63</td>\n",
       "    </tr>\n",
       "    <tr>\n",
       "      <th>2</th>\n",
       "      <td>8</td>\n",
       "      <td>76</td>\n",
       "    </tr>\n",
       "    <tr>\n",
       "      <th>3</th>\n",
       "      <td>10</td>\n",
       "      <td>98</td>\n",
       "    </tr>\n",
       "  </tbody>\n",
       "</table>\n",
       "</div>"
      ],
      "text/plain": [
       "   Overs  Score\n",
       "0      2     23\n",
       "1      6     63\n",
       "2      8     76\n",
       "3     10     98"
      ]
     },
     "execution_count": 3,
     "metadata": {},
     "output_type": "execute_result"
    }
   ],
   "source": [
    "import numpy as np\n",
    "import pandas as pd\n",
    "data={'Overs':[2,6,8,10],'Score':[23,63,76,98]}\n",
    "df=pd.DataFrame(data)\n",
    "df"
   ]
  },
  {
   "cell_type": "code",
   "execution_count": 4,
   "id": "046e13bc",
   "metadata": {},
   "outputs": [
    {
     "data": {
      "text/plain": [
       "0    23\n",
       "1    63\n",
       "2    76\n",
       "3    98\n",
       "Name: Score, dtype: int64"
      ]
     },
     "execution_count": 4,
     "metadata": {},
     "output_type": "execute_result"
    }
   ],
   "source": [
    "df.Score"
   ]
  },
  {
   "cell_type": "code",
   "execution_count": 6,
   "id": "f6568925",
   "metadata": {},
   "outputs": [
    {
     "data": {
      "text/plain": [
       "LinearRegression()"
      ]
     },
     "execution_count": 6,
     "metadata": {},
     "output_type": "execute_result"
    }
   ],
   "source": [
    "from sklearn import linear_model\n",
    "reg=linear_model.LinearRegression()\n",
    "reg.fit(df.drop('Score',axis='columns'),df.Score)"
   ]
  },
  {
   "cell_type": "code",
   "execution_count": 7,
   "id": "365cd7e6",
   "metadata": {},
   "outputs": [
    {
     "data": {
      "text/plain": [
       "array([9.2])"
      ]
     },
     "execution_count": 7,
     "metadata": {},
     "output_type": "execute_result"
    }
   ],
   "source": [
    "reg.coef_"
   ]
  },
  {
   "cell_type": "code",
   "execution_count": 8,
   "id": "9f725d38",
   "metadata": {},
   "outputs": [
    {
     "data": {
      "text/plain": [
       "5.200000000000017"
      ]
     },
     "execution_count": 8,
     "metadata": {},
     "output_type": "execute_result"
    }
   ],
   "source": [
    "reg.intercept_"
   ]
  },
  {
   "cell_type": "code",
   "execution_count": 9,
   "id": "64325096",
   "metadata": {},
   "outputs": [
    {
     "data": {
      "text/plain": [
       "array([115.6])"
      ]
     },
     "execution_count": 9,
     "metadata": {},
     "output_type": "execute_result"
    }
   ],
   "source": [
    "reg.predict([[12]])"
   ]
  },
  {
   "cell_type": "code",
   "execution_count": 10,
   "id": "864dafb7",
   "metadata": {},
   "outputs": [
    {
     "data": {
      "text/plain": [
       "array([143.2])"
      ]
     },
     "execution_count": 10,
     "metadata": {},
     "output_type": "execute_result"
    }
   ],
   "source": [
    "reg.predict([[15]])"
   ]
  },
  {
   "cell_type": "code",
   "execution_count": 11,
   "id": "740e0137",
   "metadata": {},
   "outputs": [
    {
     "data": {
      "text/plain": [
       "array([170.8])"
      ]
     },
     "execution_count": 11,
     "metadata": {},
     "output_type": "execute_result"
    }
   ],
   "source": [
    "reg.predict([[18]])"
   ]
  },
  {
   "cell_type": "code",
   "execution_count": 12,
   "id": "90a0ca62",
   "metadata": {},
   "outputs": [
    {
     "data": {
      "text/plain": [
       "array([189.2])"
      ]
     },
     "execution_count": 12,
     "metadata": {},
     "output_type": "execute_result"
    }
   ],
   "source": [
    "reg.predict([[20]])"
   ]
  },
  {
   "cell_type": "code",
   "execution_count": null,
   "id": "7c7495df",
   "metadata": {},
   "outputs": [],
   "source": [
    "#Here the predicted score for 12th over is 115 runs\n",
    "#The predicted score for 15th over is 143 runs\n",
    "#the predicted score for 18th over is 170 runs\n",
    "#the predicted score for last over is 189 runs"
   ]
  }
 ],
 "metadata": {
  "kernelspec": {
   "display_name": "Python 3 (ipykernel)",
   "language": "python",
   "name": "python3"
  },
  "language_info": {
   "codemirror_mode": {
    "name": "ipython",
    "version": 3
   },
   "file_extension": ".py",
   "mimetype": "text/x-python",
   "name": "python",
   "nbconvert_exporter": "python",
   "pygments_lexer": "ipython3",
   "version": "3.9.7"
  }
 },
 "nbformat": 4,
 "nbformat_minor": 5
}
